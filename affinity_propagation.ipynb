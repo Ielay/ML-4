{
 "cells": [
  {
   "cell_type": "code",
   "execution_count": 296,
   "metadata": {},
   "outputs": [],
   "source": [
    "import pandas as pd\n",
    "import csv\n",
    "import numpy as np\n",
    "import itertools\n",
    "from scipy import sparse\n",
    "\n",
    "from tqdm.notebook import tqdm, trange"
   ]
  },
  {
   "cell_type": "code",
   "execution_count": 297,
   "metadata": {},
   "outputs": [],
   "source": [
    "edges_file_path = \"./Gowalla_edges.txt\"\n",
    "\n",
    "edges = np.loadtxt('Gowalla_edges.txt',dtype=int)"
   ]
  },
  {
   "cell_type": "code",
   "execution_count": 298,
   "metadata": {},
   "outputs": [
    {
     "name": "stdout",
     "output_type": "stream",
     "text": [
      "(1900654, 2)\n"
     ]
    }
   ],
   "source": [
    "print(edges.shape)"
   ]
  },
  {
   "cell_type": "code",
   "execution_count": 299,
   "metadata": {},
   "outputs": [
    {
     "name": "stdout",
     "output_type": "stream",
     "text": [
      "Uniq users number: 196591\n"
     ]
    }
   ],
   "source": [
    "unique_users_number = len(np.unique(edges))\n",
    "print(\"Uniq users number: \" + str(unique_users_number))"
   ]
  },
  {
   "cell_type": "code",
   "execution_count": 300,
   "metadata": {},
   "outputs": [
    {
     "name": "stdout",
     "output_type": "stream",
     "text": [
      "1900654\n"
     ]
    }
   ],
   "source": [
    "row = []\n",
    "col = []\n",
    "data = []\n",
    "\n",
    "print(edges.shape[0])\n",
    "\n",
    "for edge in edges:\n",
    "    row.append(edge[0])\n",
    "    col.append(edge[1])\n",
    "    data.append(1)"
   ]
  },
  {
   "cell_type": "code",
   "execution_count": 301,
   "metadata": {},
   "outputs": [
    {
     "name": "stdout",
     "output_type": "stream",
     "text": [
      "0\n",
      "196590\n"
     ]
    }
   ],
   "source": [
    "# check if users indexes are sequential without spaces\n",
    "print(edges.min())\n",
    "print(edges.max())"
   ]
  },
  {
   "cell_type": "code",
   "execution_count": 302,
   "metadata": {},
   "outputs": [],
   "source": [
    "# s(i,i) - self-similarity values\n",
    "for i in range(unique_users_number):\n",
    "    row.append(i)\n",
    "    col.append(i)\n",
    "    data.append(-1.5)"
   ]
  },
  {
   "cell_type": "code",
   "execution_count": 303,
   "metadata": {},
   "outputs": [
    {
     "name": "stdout",
     "output_type": "stream",
     "text": [
      "(196591, 196591)\n"
     ]
    }
   ],
   "source": [
    "# merge row, col and data into coo matrix (which is a similarity matrix in this case)\n",
    "#s = sparse.coo_matrix((data, (row, col)), dtype=np.int8)\n",
    "s = sparse.coo_matrix((data, (row, col)))\n",
    "\n",
    "print(s.shape)\n",
    "# print(users_conn)"
   ]
  },
  {
   "cell_type": "code",
   "execution_count": 304,
   "metadata": {},
   "outputs": [],
   "source": [
    "def upd_responsibility(s, a_data, r_data):\n",
    "    data = s.data + a_data\n",
    "    row_idxs = s.row\n",
    "    col_idxs = s.col\n",
    "    \n",
    "    # max in row\n",
    "    row_max1 = np.repeat(-np.inf, s.shape[0])\n",
    "    # column index of the maximum in row i\n",
    "    row_max1_col_idx = np.repeat(None, s.shape[0])\n",
    "    # max in row for cases when k' == k\n",
    "    row_max2 = np.repeat(-np.inf, s.shape[0])\n",
    "    \n",
    "    for idx,pair_ik in enumerate(zip(row_idxs, col_idxs)):\n",
    "        if row_max1[pair_ik[0]] < data[idx]:\n",
    "            row_max2[pair_ik[0]] = row_max1[pair_ik[0]]\n",
    "            row_max1[pair_ik[0]] = data[idx]\n",
    "            # save column index of the cell with max value in row i \n",
    "            row_max1_col_idx[pair_ik[0]] = pair_ik[1]\n",
    "        elif row_max2[pair_ik[0]] < data[idx]:\n",
    "            row_max2[pair_ik[0]] = data[idx]\n",
    "    \n",
    "    #r[i,k] = s[i,k] - max(a[i,k'] + s[i,k']){k' != k}\n",
    "    r_new = s.data.copy()\n",
    "    for idx,pair_ik in enumerate(zip(row_idxs, col_idxs)):\n",
    "        # if k' != k\n",
    "        if row_max1_col_idx[pair_ik[0]] != pair_ik[1]:\n",
    "            r_new[idx] -= row_max1[pair_ik[0]]\n",
    "        # if k' == k\n",
    "        else:\n",
    "            # check for case when user i had only one connection so\n",
    "            #  row_max2[i] was linked to -inf \n",
    "            if row_max2[pair_ik[0]] != -np.inf:\n",
    "                r_new[idx] -= row_max2[pair_ik[0]]\n",
    "            # else: r_new[idx] -= 0\n",
    "    return r_new\n",
    "\n",
    "\n",
    "def upd_availability(s, a_data, r_data):\n",
    "    r_copy = r_data.copy()\n",
    "    \n",
    "    for i in range(0,len(edges)):\n",
    "        if r_copy[i] < 0:\n",
    "            r_copy[i] = 0\n",
    "    \n",
    "    positive_r = np.repeat(0, s.shape[0])\n",
    "    \n",
    "    for idx, pair in enumerate(zip(s.row, s.col)):\n",
    "        positive_r[pair[1]] += r_copy[idx]\n",
    "    \n",
    "    for idx, pair in enumerate(zip(s.row, s.col)):\n",
    "        a_data[idx] = positive_r[pair[1]] - r_copy[idx]\n",
    "    \n",
    "    #count min\n",
    "    for i in range(0,len(edges)):\n",
    "        a_data[i] = np.min([0, a_data[i]])\n",
    "    \n",
    "    return a_data\n",
    "\n",
    "\n",
    "def calc_criterion(r, a):\n",
    "    return r + a"
   ]
  },
  {
   "cell_type": "code",
   "execution_count": 305,
   "metadata": {},
   "outputs": [],
   "source": [
    "def get_exemplars(c_data, s, transitivity_param = 5):\n",
    "    # stores max values for comparison\n",
    "    temp = np.repeat(-np.inf, s.shape[0])\n",
    "    \n",
    "    exemplars = dict()\n",
    "    \n",
    "    # for each user get exemplar\n",
    "    for idx, pair in enumerate(zip(s.row, s.col)):\n",
    "        # for each user i find user j with max value from criterion matrix\n",
    "        if c_data[idx] > temp[pair[0]]:\n",
    "            temp[pair[0]] = c_data[idx]\n",
    "            exemplars[pair[0]] = pair[1]\n",
    "    \n",
    "    for i in range(transitivity_param):        \n",
    "        for exempl_a in exemplars.keys(): \n",
    "            #exemplar b for user a\n",
    "            exempl_b = exemplars[exempl_a]\n",
    "            #if b is not exemplar for b (self-exemplar)\n",
    "            if exemplars[exempl_b] != exempl_b:\n",
    "                #find exemplar for b, it is c\n",
    "                exempl_с = exemplars[exempl_b]\n",
    "                #update main: put exemplar c as exemplae for a\n",
    "                exemplars[exempl_a] = exempl_с\n",
    "    \n",
    "    return exemplars"
   ]
  },
  {
   "cell_type": "code",
   "execution_count": 306,
   "metadata": {},
   "outputs": [],
   "source": [
    "def affinity_propagation(s, number_of_iterations=1):\n",
    "    # operate with only (i,j) data, as sparse matrixes are too big\n",
    "    a_data = np.repeat(0, s.data.shape[0])\n",
    "    r_data = np.repeat(0, s.data.shape[0])\n",
    "    \n",
    "    print(s.shape)\n",
    "    print(a_data.shape)\n",
    "    print(r_data.shape)\n",
    "    \n",
    "    for iter in tqdm(range(number_of_iterations), desc='Iter number'):\n",
    "        print(\"Update R\")\n",
    "        r_data = upd_responsibility(s, a_data, r_data)\n",
    "        print(\"Update A\")\n",
    "        a_data = upd_availability(s, a_data, r_data)\n",
    "    \n",
    "    print(\"Calculate C\")\n",
    "    c_data = calc_criterion(r_data, a_data)\n",
    "    \n",
    "    return get_exemplars(c_data, s)\n",
    "    "
   ]
  },
  {
   "cell_type": "code",
   "execution_count": 307,
   "metadata": {},
   "outputs": [
    {
     "name": "stdout",
     "output_type": "stream",
     "text": [
      "(196591, 196591)\n",
      "(2097245,)\n",
      "(2097245,)\n"
     ]
    },
    {
     "data": {
      "application/vnd.jupyter.widget-view+json": {
       "model_id": "ffe2e5bada5d474595519b26db3a5f6d",
       "version_major": 2,
       "version_minor": 0
      },
      "text/plain": [
       "HBox(children=(FloatProgress(value=0.0, description='Iter number', max=10.0, style=ProgressStyle(description_w…"
      ]
     },
     "metadata": {},
     "output_type": "display_data"
    },
    {
     "name": "stdout",
     "output_type": "stream",
     "text": [
      "Update R\n",
      "Update A\n",
      "Update R\n",
      "Update A\n",
      "Update R\n",
      "Update A\n",
      "Update R\n",
      "Update A\n",
      "Update R\n",
      "Update A\n",
      "Update R\n",
      "Update A\n",
      "Update R\n",
      "Update A\n",
      "Update R\n",
      "Update A\n",
      "Update R\n",
      "Update A\n",
      "Update R\n",
      "Update A\n",
      "\n",
      "Calculate C\n"
     ]
    }
   ],
   "source": [
    "# {user i -> user j with which user i is connected}\n",
    "result = affinity_propagation(s, number_of_iterations=10)"
   ]
  },
  {
   "cell_type": "code",
   "execution_count": 308,
   "metadata": {},
   "outputs": [
    {
     "name": "stdout",
     "output_type": "stream",
     "text": [
      "Clusters amount: 17955\n"
     ]
    }
   ],
   "source": [
    "#Amount of clusters\n",
    "clusters=sorted(list(set(result.values())))\n",
    "print(\"Clusters amount:\", len(clusters))"
   ]
  },
  {
   "cell_type": "code",
   "execution_count": 309,
   "metadata": {},
   "outputs": [],
   "source": [
    "import matplotlib.pyplot as plt"
   ]
  },
  {
   "cell_type": "code",
   "execution_count": 324,
   "metadata": {},
   "outputs": [
    {
     "name": "stdout",
     "output_type": "stream",
     "text": [
      "Max cluster size: 16100\n",
      "Min cluster size: 1\n"
     ]
    },
    {
     "data": {
      "image/png": "[encoded data removed]",
      "text/plain": [
       "<Figure size 432x288 with 1 Axes>"
      ]
     },
     "metadata": {
      "needs_background": "light"
     },
     "output_type": "display_data"
    },
    {
     "data": {
      "image/png": "[encoded data removed]",
      "text/plain": [
       "<Figure size 432x288 with 1 Axes>"
      ]
     },
     "metadata": {
      "needs_background": "light"
     },
     "output_type": "display_data"
    },
    {
     "data": {
      "image/png": "[encoded data removed]",
      "text/plain": [
       "<Figure size 432x288 with 1 Axes>"
      ]
     },
     "metadata": {
      "needs_background": "light"
     },
     "output_type": "display_data"
    }
   ],
   "source": [
    "# {cluster -> users number}\n",
    "cluster_size = dict()\n",
    "for exemplar in result.values():\n",
    "    if exemplar not in cluster_size:\n",
    "        cluster_size[exemplar] = 1\n",
    "    else:\n",
    "        cluster_size[exemplar] += 1\n",
    "print(\"Max cluster size:\", max(cluster_size.values()))\n",
    "print(\"Min cluster size:\", min(cluster_size.values()))\n",
    "\n",
    "#plot all\n",
    "plt.hist(cluster_size.values(), bins=100)\n",
    "plt.xlabel(\"Clusters size\")\n",
    "plt.ylabel(\"Clusters amount\")\n",
    "plt.title(\"All clusters\")\n",
    "plt.show()\n",
    "\n",
    "#plot the smallest\n",
    "plt.hist(cluster_size.values(), bins=100, range=(0, 60))\n",
    "plt.xlabel(\"Clusters size\")\n",
    "plt.ylabel(\"Clusters amount\")\n",
    "plt.title(\"Smallest clusters\")\n",
    "plt.show()\n",
    "\n",
    "\n",
    "#plot the biggest\n",
    "plt.hist(cluster_size.values(), bins=100, range=(5000, 16101))\n",
    "plt.xlabel(\"Clusters size\")\n",
    "plt.ylabel(\"Clusters amount\")\n",
    "plt.title(\"Biggest clusters\")\n",
    "plt.show()"
   ]
  },
  {
   "cell_type": "code",
   "execution_count": 323,
   "metadata": {},
   "outputs": [
    {
     "name": "stdout",
     "output_type": "stream",
     "text": [
      "6442892\n"
     ]
    },
    {
     "data": {
      "text/html": [
       "<div>\n",
       "<style scoped>\n",
       "    .dataframe tbody tr th:only-of-type {\n",
       "        vertical-align: middle;\n",
       "    }\n",
       "\n",
       "    .dataframe tbody tr th {\n",
       "        vertical-align: top;\n",
       "    }\n",
       "\n",
       "    .dataframe thead th {\n",
       "        text-align: right;\n",
       "    }\n",
       "</style>\n",
       "<table border=\"1\" class=\"dataframe\">\n",
       "  <thead>\n",
       "    <tr style=\"text-align: right;\">\n",
       "      <th></th>\n",
       "      <th>user_id</th>\n",
       "      <th>location_id</th>\n",
       "    </tr>\n",
       "  </thead>\n",
       "  <tbody>\n",
       "    <tr>\n",
       "      <th>0</th>\n",
       "      <td>0</td>\n",
       "      <td>22847</td>\n",
       "    </tr>\n",
       "    <tr>\n",
       "      <th>1</th>\n",
       "      <td>0</td>\n",
       "      <td>420315</td>\n",
       "    </tr>\n",
       "    <tr>\n",
       "      <th>2</th>\n",
       "      <td>0</td>\n",
       "      <td>316637</td>\n",
       "    </tr>\n",
       "    <tr>\n",
       "      <th>3</th>\n",
       "      <td>0</td>\n",
       "      <td>16516</td>\n",
       "    </tr>\n",
       "    <tr>\n",
       "      <th>4</th>\n",
       "      <td>0</td>\n",
       "      <td>5535878</td>\n",
       "    </tr>\n",
       "  </tbody>\n",
       "</table>\n",
       "</div>"
      ],
      "text/plain": [
       "   user_id  location_id\n",
       "0        0        22847\n",
       "1        0       420315\n",
       "2        0       316637\n",
       "3        0        16516\n",
       "4        0      5535878"
      ]
     },
     "execution_count": 323,
     "metadata": {},
     "output_type": "execute_result"
    }
   ],
   "source": [
    "import pandas as pd\n",
    "\n",
    "df_checkins = pd.read_csv(\"./Gowalla_totalCheckins.txt\", sep=\"\t\", header=None)[[0, 4]]\n",
    "df_checkins.columns = [\"user_id\", \"location_id\"]\n",
    "print(len(df_checkins))\n",
    "df_checkins.head()\n"
   ]
  },
  {
   "cell_type": "code",
   "execution_count": 312,
   "metadata": {},
   "outputs": [
    {
     "name": "stdout",
     "output_type": "stream",
     "text": [
      "196591\n",
      "196591\n"
     ]
    },
    {
     "data": {
      "text/html": [
       "<div>\n",
       "<style scoped>\n",
       "    .dataframe tbody tr th:only-of-type {\n",
       "        vertical-align: middle;\n",
       "    }\n",
       "\n",
       "    .dataframe tbody tr th {\n",
       "        vertical-align: top;\n",
       "    }\n",
       "\n",
       "    .dataframe thead th {\n",
       "        text-align: right;\n",
       "    }\n",
       "</style>\n",
       "<table border=\"1\" class=\"dataframe\">\n",
       "  <thead>\n",
       "    <tr style=\"text-align: right;\">\n",
       "      <th></th>\n",
       "      <th>user_id</th>\n",
       "      <th>cluster_id</th>\n",
       "    </tr>\n",
       "  </thead>\n",
       "  <tbody>\n",
       "    <tr>\n",
       "      <th>0</th>\n",
       "      <td>0</td>\n",
       "      <td>0</td>\n",
       "    </tr>\n",
       "    <tr>\n",
       "      <th>1</th>\n",
       "      <td>1</td>\n",
       "      <td>1</td>\n",
       "    </tr>\n",
       "    <tr>\n",
       "      <th>2</th>\n",
       "      <td>2</td>\n",
       "      <td>2</td>\n",
       "    </tr>\n",
       "    <tr>\n",
       "      <th>3</th>\n",
       "      <td>3</td>\n",
       "      <td>3</td>\n",
       "    </tr>\n",
       "    <tr>\n",
       "      <th>4</th>\n",
       "      <td>4</td>\n",
       "      <td>4</td>\n",
       "    </tr>\n",
       "  </tbody>\n",
       "</table>\n",
       "</div>"
      ],
      "text/plain": [
       "   user_id  cluster_id\n",
       "0        0           0\n",
       "1        1           1\n",
       "2        2           2\n",
       "3        3           3\n",
       "4        4           4"
      ]
     },
     "execution_count": 312,
     "metadata": {},
     "output_type": "execute_result"
    }
   ],
   "source": [
    "clusters=(list(result.values()))\n",
    "print(len(clusters))\n",
    "df_clusters = pd.DataFrame(clusters)\n",
    "df_clusters = df_clusters.reset_index()\n",
    "df_clusters.columns = [\"user_id\", \"cluster_id\"]\n",
    "print(len(df_clusters))\n",
    "df_clusters.head()"
   ]
  },
  {
   "cell_type": "code",
   "execution_count": 313,
   "metadata": {},
   "outputs": [
    {
     "name": "stdout",
     "output_type": "stream",
     "text": [
      "6442892\n"
     ]
    },
    {
     "data": {
      "text/html": [
       "<div>\n",
       "<style scoped>\n",
       "    .dataframe tbody tr th:only-of-type {\n",
       "        vertical-align: middle;\n",
       "    }\n",
       "\n",
       "    .dataframe tbody tr th {\n",
       "        vertical-align: top;\n",
       "    }\n",
       "\n",
       "    .dataframe thead th {\n",
       "        text-align: right;\n",
       "    }\n",
       "</style>\n",
       "<table border=\"1\" class=\"dataframe\">\n",
       "  <thead>\n",
       "    <tr style=\"text-align: right;\">\n",
       "      <th></th>\n",
       "      <th>user_id</th>\n",
       "      <th>location_id</th>\n",
       "      <th>cluster_id</th>\n",
       "    </tr>\n",
       "  </thead>\n",
       "  <tbody>\n",
       "    <tr>\n",
       "      <th>0</th>\n",
       "      <td>0</td>\n",
       "      <td>22847</td>\n",
       "      <td>0</td>\n",
       "    </tr>\n",
       "    <tr>\n",
       "      <th>1</th>\n",
       "      <td>0</td>\n",
       "      <td>420315</td>\n",
       "      <td>0</td>\n",
       "    </tr>\n",
       "    <tr>\n",
       "      <th>2</th>\n",
       "      <td>0</td>\n",
       "      <td>316637</td>\n",
       "      <td>0</td>\n",
       "    </tr>\n",
       "    <tr>\n",
       "      <th>3</th>\n",
       "      <td>0</td>\n",
       "      <td>16516</td>\n",
       "      <td>0</td>\n",
       "    </tr>\n",
       "    <tr>\n",
       "      <th>4</th>\n",
       "      <td>0</td>\n",
       "      <td>5535878</td>\n",
       "      <td>0</td>\n",
       "    </tr>\n",
       "  </tbody>\n",
       "</table>\n",
       "</div>"
      ],
      "text/plain": [
       "   user_id  location_id  cluster_id\n",
       "0        0        22847           0\n",
       "1        0       420315           0\n",
       "2        0       316637           0\n",
       "3        0        16516           0\n",
       "4        0      5535878           0"
      ]
     },
     "execution_count": 313,
     "metadata": {},
     "output_type": "execute_result"
    }
   ],
   "source": [
    "df = pd.merge(df_checkins, df_clusters, on=['user_id'])\n",
    "print(len(df))\n",
    "df.head()"
   ]
  },
  {
   "cell_type": "code",
   "execution_count": 314,
   "metadata": {},
   "outputs": [
    {
     "name": "stdout",
     "output_type": "stream",
     "text": [
      "107092\n"
     ]
    }
   ],
   "source": [
    "users_with_location = np.unique(df_checkins.user_id)\n",
    "print(len(users_with_location))"
   ]
  },
  {
   "cell_type": "code",
   "execution_count": 315,
   "metadata": {},
   "outputs": [
    {
     "name": "stdout",
     "output_type": "stream",
     "text": [
      "96382\n",
      "10710\n"
     ]
    }
   ],
   "source": [
    "from sklearn.model_selection import train_test_split\n",
    "\n",
    "#split data (user checkins) into test and train batches with shuffling\n",
    "train_users, test_users = train_test_split(users_with_location, test_size=0.1, shuffle=True)\n",
    "print(len(train_users))\n",
    "print(len(test_users))"
   ]
  },
  {
   "cell_type": "code",
   "execution_count": 316,
   "metadata": {},
   "outputs": [
    {
     "name": "stdout",
     "output_type": "stream",
     "text": [
      "5825761\n",
      "617131\n"
     ]
    },
    {
     "data": {
      "text/html": [
       "<div>\n",
       "<style scoped>\n",
       "    .dataframe tbody tr th:only-of-type {\n",
       "        vertical-align: middle;\n",
       "    }\n",
       "\n",
       "    .dataframe tbody tr th {\n",
       "        vertical-align: top;\n",
       "    }\n",
       "\n",
       "    .dataframe thead th {\n",
       "        text-align: right;\n",
       "    }\n",
       "</style>\n",
       "<table border=\"1\" class=\"dataframe\">\n",
       "  <thead>\n",
       "    <tr style=\"text-align: right;\">\n",
       "      <th></th>\n",
       "      <th>user_id</th>\n",
       "      <th>location_id</th>\n",
       "      <th>cluster_id</th>\n",
       "    </tr>\n",
       "  </thead>\n",
       "  <tbody>\n",
       "    <tr>\n",
       "      <th>2337</th>\n",
       "      <td>4</td>\n",
       "      <td>14608</td>\n",
       "      <td>4</td>\n",
       "    </tr>\n",
       "    <tr>\n",
       "      <th>2338</th>\n",
       "      <td>4</td>\n",
       "      <td>640452</td>\n",
       "      <td>4</td>\n",
       "    </tr>\n",
       "    <tr>\n",
       "      <th>2339</th>\n",
       "      <td>4</td>\n",
       "      <td>166197</td>\n",
       "      <td>4</td>\n",
       "    </tr>\n",
       "    <tr>\n",
       "      <th>2340</th>\n",
       "      <td>4</td>\n",
       "      <td>26645</td>\n",
       "      <td>4</td>\n",
       "    </tr>\n",
       "    <tr>\n",
       "      <th>2341</th>\n",
       "      <td>4</td>\n",
       "      <td>102499</td>\n",
       "      <td>4</td>\n",
       "    </tr>\n",
       "  </tbody>\n",
       "</table>\n",
       "</div>"
      ],
      "text/plain": [
       "      user_id  location_id  cluster_id\n",
       "2337        4        14608           4\n",
       "2338        4       640452           4\n",
       "2339        4       166197           4\n",
       "2340        4        26645           4\n",
       "2341        4       102499           4"
      ]
     },
     "execution_count": 316,
     "metadata": {},
     "output_type": "execute_result"
    }
   ],
   "source": [
    "# train checkins (from train users only)\n",
    "train_checkins = df.loc[df.user_id.isin(train_users)]\n",
    "print(len(train_checkins))\n",
    "\n",
    "# test checkins (from test users only)\n",
    "test_checkins = df.loc[df.user_id.isin(test_users)]\n",
    "print(len(test_checkins))\n",
    "\n",
    "test_checkins.head()"
   ]
  },
  {
   "cell_type": "code",
   "execution_count": 320,
   "metadata": {},
   "outputs": [
    {
     "name": "stdout",
     "output_type": "stream",
     "text": [
      "location_id\n",
      "55033      5239\n",
      "19542      5140\n",
      "9410       4292\n",
      "10259      3739\n",
      "58725      3158\n",
      "           ... \n",
      "4425459       1\n",
      "3899315       1\n",
      "528147        1\n",
      "1217402       1\n",
      "5977211       1\n",
      "Name: location_id, Length: 1218004, dtype: int64\n",
      "[55033, 19542, 9410, 10259, 58725, 9246, 10190, 23256, 14470, 9241]\n"
     ]
    }
   ],
   "source": [
    "# {location_id -> presense count in data}\n",
    "counted_locations = train_checkins.groupby(by='location_id')['location_id'].count()\n",
    "# sort descending\n",
    "sorted_locations = counted_locations.sort_values(ascending = False)\n",
    "print(sorted_locations)\n",
    "# get 10 most popular locations (global train top)\n",
    "top10_locations = list(sorted_locations.iloc[:10].index)\n",
    "print(top10_locations)"
   ]
  },
  {
   "cell_type": "code",
   "execution_count": 318,
   "metadata": {},
   "outputs": [
    {
     "data": {
      "text/html": [
       "<div>\n",
       "<style scoped>\n",
       "    .dataframe tbody tr th:only-of-type {\n",
       "        vertical-align: middle;\n",
       "    }\n",
       "\n",
       "    .dataframe tbody tr th {\n",
       "        vertical-align: top;\n",
       "    }\n",
       "\n",
       "    .dataframe thead th {\n",
       "        text-align: right;\n",
       "    }\n",
       "</style>\n",
       "<table border=\"1\" class=\"dataframe\">\n",
       "  <thead>\n",
       "    <tr style=\"text-align: right;\">\n",
       "      <th></th>\n",
       "      <th>cluster_id</th>\n",
       "      <th>location_id</th>\n",
       "      <th>rating</th>\n",
       "    </tr>\n",
       "  </thead>\n",
       "  <tbody>\n",
       "    <tr>\n",
       "      <th>3105934</th>\n",
       "      <td>196539</td>\n",
       "      <td>103606</td>\n",
       "      <td>11</td>\n",
       "    </tr>\n",
       "    <tr>\n",
       "      <th>3105940</th>\n",
       "      <td>196539</td>\n",
       "      <td>271694</td>\n",
       "      <td>5</td>\n",
       "    </tr>\n",
       "    <tr>\n",
       "      <th>3105935</th>\n",
       "      <td>196539</td>\n",
       "      <td>124683</td>\n",
       "      <td>1</td>\n",
       "    </tr>\n",
       "    <tr>\n",
       "      <th>3105936</th>\n",
       "      <td>196539</td>\n",
       "      <td>128331</td>\n",
       "      <td>1</td>\n",
       "    </tr>\n",
       "    <tr>\n",
       "      <th>3105937</th>\n",
       "      <td>196539</td>\n",
       "      <td>130147</td>\n",
       "      <td>1</td>\n",
       "    </tr>\n",
       "  </tbody>\n",
       "</table>\n",
       "</div>"
      ],
      "text/plain": [
       "         cluster_id  location_id  rating\n",
       "3105934      196539       103606      11\n",
       "3105940      196539       271694       5\n",
       "3105935      196539       124683       1\n",
       "3105936      196539       128331       1\n",
       "3105937      196539       130147       1"
      ]
     },
     "execution_count": 318,
     "metadata": {},
     "output_type": "execute_result"
    }
   ],
   "source": [
    "# amount of times user in this cluster check-ins in this location \n",
    "train_loc_ratings = train_checkins.groupby(by = [\"cluster_id\", \"location_id\"])[\"location_id\"].count()\n",
    "\n",
    "train_loc_ratings = train_loc_ratings.reset_index(name='rating').sort_values(by = [\"cluster_id\", \"rating\"], ascending = False)\n",
    "train_loc_ratings.head()"
   ]
  },
  {
   "cell_type": "code",
   "execution_count": 321,
   "metadata": {},
   "outputs": [
    {
     "data": {
      "application/vnd.jupyter.widget-view+json": {
       "model_id": "5bcfc76dc7b94e76918c074720b06338",
       "version_major": 2,
       "version_minor": 0
      },
      "text/plain": [
       "HBox(children=(FloatProgress(value=0.0, description='User', max=10710.0, style=ProgressStyle(description_width…"
      ]
     },
     "metadata": {},
     "output_type": "display_data"
    },
    {
     "name": "stdout",
     "output_type": "stream",
     "text": [
      "\n",
      "Base precision (train data top):  0.016479925303454716\n",
      "Cluster precision (user cluster top):  0.03784313725490196\n"
     ]
    }
   ],
   "source": [
    "def correct_prec_numb(top_data, pred_data, k = 10):\n",
    "    # calc number of correct precisions\n",
    "    return len(set(top_data[:k]).intersection(set(pred_data)))\n",
    "\n",
    "tp_base = 0\n",
    "tp_cluster = 0\n",
    "denom = len(test_users)*10\n",
    "\n",
    "for user in tqdm(test_users, desc='User'):\n",
    "    cluster = clusters[user]\n",
    "    user_locations = test_checkins.loc[test_checkins.user_id == user, \"location_id\"].values\n",
    "    \n",
    "    if cluster in train_loc_ratings.cluster_id:    \n",
    "        cluster_top = train_loc_ratings.loc[train_loc_ratings.cluster_id == cluster, \"location_id\"].values\n",
    "        tp_cluster += correct_prec_numb(cluster_top, user_locations)\n",
    "\n",
    "    tp_base += correct_prec_numb(top10_locations, user_locations)\n",
    "\n",
    "base_precision = tp_base/denom\n",
    "cluster_precision = tp_cluster/denom\n",
    "\n",
    "print(\"Base precision (train data top): \", base_precision)\n",
    "print(\"Cluster precision (user cluster top): \", cluster_precision)"
   ]
  },
  {
   "cell_type": "code",
   "execution_count": null,
   "metadata": {},
   "outputs": [],
   "source": []
  }
 ],
 "metadata": {
  "kernelspec": {
   "display_name": "Python 3",
   "language": "python",
   "name": "python3"
  },
  "language_info": {
   "codemirror_mode": {
    "name": "ipython",
    "version": 3
   },
   "file_extension": ".py",
   "mimetype": "text/x-python",
   "name": "python",
   "nbconvert_exporter": "python",
   "pygments_lexer": "ipython3",
   "version": "3.6.10"
  }
 },
 "nbformat": 4,
 "nbformat_minor": 4
}
